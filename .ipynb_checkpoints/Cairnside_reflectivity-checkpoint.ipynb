{
 "cells": [
  {
   "cell_type": "markdown",
   "metadata": {},
   "source": [
    "## Reflectivity example - Cairnside\n",
    "\n",
    "Implications for seismic monitoring"
   ]
  },
  {
   "cell_type": "code",
   "execution_count": 36,
   "metadata": {
    "collapsed": false,
    "run_control": {
     "marked": false
    }
   },
   "outputs": [],
   "source": [
    "%matplotlib inline\n",
    "\n",
    "import numpy as np\n",
    "import pandas as pd\n",
    "import matplotlib.pylab as plt\n",
    "plt.style.use('fivethirtyeight')\n",
    "plt.style.use('seaborn-white')\n",
    "# plt.style.use('seaborn-paper')\n",
    "\n",
    "import matplotlib.pylab as pylab\n",
    "params = {'legend.fontsize': 'small',\n",
    "         'axes.labelsize': 'medium',\n",
    "         'axes.titlesize':'medium',\n",
    "         'axes.titlesize':'large',\n",
    "         'xtick.labelsize':'small',\n",
    "         'ytick.labelsize':'small'}\n",
    "pylab.rcParams.update(params)\n"
   ]
  },
  {
   "cell_type": "code",
   "execution_count": 2,
   "metadata": {
    "collapsed": false,
    "run_control": {
     "marked": false
    }
   },
   "outputs": [],
   "source": [
    "col_interest = ['Pressure (MPa)','Density (kg/m3)', 'Sound Spd. (m/s)']\n",
    "CO2_25 = pd.read_csv('data/co2/25/co2_25.txt', delimiter=\"\\t\")\n",
    "CO2_25 = CO2_25[col_interest]\n",
    "CO2_25.columns = ['Pressure (MPa)', 'Density_CO2 (kg/m3)', 'Sound Spd_CO2 (m/s)' ]\n",
    "CO2_35 = pd.read_csv('data/co2/35/co2_35.txt', delimiter=\"\\t\")\n",
    "CO2_35 = CO2_35[col_interest]\n",
    "CO2_35.columns = ['Pressure (MPa)', 'Density_CO2 (kg/m3)', 'Sound Spd_CO2 (m/s)']\n",
    "H2O_25 = pd.read_csv('data/H2O/25/h2o_25.txt', delimiter=\"\\t\")\n",
    "H2O_25 = H2O_25[col_interest]\n",
    "H2O_25.columns = ['Pressure (MPa)', 'Density_H2O (kg/m3)', 'Sound Spd_H2O (m/s)']\n",
    "H2O_35 = pd.read_csv('data/H2O/35/h2o_35.txt', delimiter=\"\\t\")\n",
    "H2O_35 = H2O_35[col_interest]\n",
    "H2O_35.columns = ['Pressure (MPa)', 'Density_H2O (kg/m3)', 'Sound Spd_H2O (m/s)']"
   ]
  },
  {
   "cell_type": "code",
   "execution_count": 3,
   "metadata": {
    "collapsed": false,
    "run_control": {
     "marked": false
    }
   },
   "outputs": [
    {
     "data": {
      "text/html": [
       "<div>\n",
       "<table border=\"1\" class=\"dataframe\">\n",
       "  <thead>\n",
       "    <tr style=\"text-align: right;\">\n",
       "      <th></th>\n",
       "      <th>Pressure (MPa)</th>\n",
       "      <th>Density_H2O (kg/m3)</th>\n",
       "      <th>Sound Spd_H2O (m/s)</th>\n",
       "    </tr>\n",
       "  </thead>\n",
       "  <tbody>\n",
       "    <tr>\n",
       "      <th>0</th>\n",
       "      <td>0.00000</td>\n",
       "      <td>0.000000</td>\n",
       "      <td>427.63</td>\n",
       "    </tr>\n",
       "    <tr>\n",
       "      <th>1</th>\n",
       "      <td>0.00317</td>\n",
       "      <td>0.023075</td>\n",
       "      <td>426.63</td>\n",
       "    </tr>\n",
       "    <tr>\n",
       "      <th>2</th>\n",
       "      <td>0.00317</td>\n",
       "      <td>997.000000</td>\n",
       "      <td>1496.50</td>\n",
       "    </tr>\n",
       "    <tr>\n",
       "      <th>3</th>\n",
       "      <td>1.00000</td>\n",
       "      <td>997.450000</td>\n",
       "      <td>1498.20</td>\n",
       "    </tr>\n",
       "    <tr>\n",
       "      <th>4</th>\n",
       "      <td>2.00000</td>\n",
       "      <td>997.900000</td>\n",
       "      <td>1499.90</td>\n",
       "    </tr>\n",
       "    <tr>\n",
       "      <th>5</th>\n",
       "      <td>3.00000</td>\n",
       "      <td>998.350000</td>\n",
       "      <td>1501.60</td>\n",
       "    </tr>\n",
       "    <tr>\n",
       "      <th>6</th>\n",
       "      <td>4.00000</td>\n",
       "      <td>998.800000</td>\n",
       "      <td>1503.20</td>\n",
       "    </tr>\n",
       "    <tr>\n",
       "      <th>7</th>\n",
       "      <td>5.00000</td>\n",
       "      <td>999.250000</td>\n",
       "      <td>1504.90</td>\n",
       "    </tr>\n",
       "    <tr>\n",
       "      <th>8</th>\n",
       "      <td>6.00000</td>\n",
       "      <td>999.690000</td>\n",
       "      <td>1506.60</td>\n",
       "    </tr>\n",
       "    <tr>\n",
       "      <th>9</th>\n",
       "      <td>7.00000</td>\n",
       "      <td>1000.100000</td>\n",
       "      <td>1508.30</td>\n",
       "    </tr>\n",
       "  </tbody>\n",
       "</table>\n",
       "</div>"
      ],
      "text/plain": [
       "   Pressure (MPa)  Density_H2O (kg/m3)  Sound Spd_H2O (m/s)\n",
       "0         0.00000             0.000000               427.63\n",
       "1         0.00317             0.023075               426.63\n",
       "2         0.00317           997.000000              1496.50\n",
       "3         1.00000           997.450000              1498.20\n",
       "4         2.00000           997.900000              1499.90\n",
       "5         3.00000           998.350000              1501.60\n",
       "6         4.00000           998.800000              1503.20\n",
       "7         5.00000           999.250000              1504.90\n",
       "8         6.00000           999.690000              1506.60\n",
       "9         7.00000          1000.100000              1508.30"
      ]
     },
     "execution_count": 3,
     "metadata": {},
     "output_type": "execute_result"
    }
   ],
   "source": [
    "H2O_25.head(10)"
   ]
  },
  {
   "cell_type": "markdown",
   "metadata": {
    "run_control": {
     "marked": false
    }
   },
   "source": [
    "### Cairnside physical properties"
   ]
  },
  {
   "cell_type": "code",
   "execution_count": 4,
   "metadata": {
    "collapsed": false,
    "run_control": {
     "marked": false
    }
   },
   "outputs": [
    {
     "name": "stderr",
     "output_type": "stream",
     "text": [
      "/Users/lorenzoperozzi/anaconda3/lib/python3.5/site-packages/ipykernel/__main__.py:5: ParserWarning: Falling back to the 'python' engine because the 'c' engine does not support regex separators (separators > 1 char and different from '\\s+' are interpreted as regex); you can avoid this warning by specifying engine='python'.\n",
      "/Users/lorenzoperozzi/anaconda3/lib/python3.5/site-packages/ipykernel/__main__.py:6: ParserWarning: Falling back to the 'python' engine because the 'c' engine does not support regex separators (separators > 1 char and different from '\\s+' are interpreted as regex); you can avoid this warning by specifying engine='python'.\n",
      "/Users/lorenzoperozzi/anaconda3/lib/python3.5/site-packages/ipykernel/__main__.py:7: ParserWarning: Falling back to the 'python' engine because the 'c' engine does not support regex separators (separators > 1 char and different from '\\s+' are interpreted as regex); you can avoid this warning by specifying engine='python'.\n",
      "/Users/lorenzoperozzi/anaconda3/lib/python3.5/site-packages/ipykernel/__main__.py:8: ParserWarning: Falling back to the 'python' engine because the 'c' engine does not support regex separators (separators > 1 char and different from '\\s+' are interpreted as regex); you can avoid this warning by specifying engine='python'.\n",
      "/Users/lorenzoperozzi/anaconda3/lib/python3.5/site-packages/ipykernel/__main__.py:9: ParserWarning: Falling back to the 'python' engine because the 'c' engine does not support regex separators (separators > 1 char and different from '\\s+' are interpreted as regex); you can avoid this warning by specifying engine='python'.\n",
      "/Users/lorenzoperozzi/anaconda3/lib/python3.5/site-packages/ipykernel/__main__.py:10: ParserWarning: Falling back to the 'python' engine because the 'c' engine does not support regex separators (separators > 1 char and different from '\\s+' are interpreted as regex); you can avoid this warning by specifying engine='python'.\n"
     ]
    },
    {
     "data": {
      "text/html": [
       "<div>\n",
       "<table border=\"1\" class=\"dataframe\">\n",
       "  <thead>\n",
       "    <tr style=\"text-align: right;\">\n",
       "      <th></th>\n",
       "      <th>Pressure (MPa)</th>\n",
       "      <th>Density_CO2 (kg/m3)</th>\n",
       "      <th>Sound Spd_CO2 (m/s)</th>\n",
       "      <th>Density_H2O (kg/m3)</th>\n",
       "      <th>Sound Spd_H2O (m/s)</th>\n",
       "      <th>Vp_CO2 (m/s)</th>\n",
       "      <th>Vs_CO2 (m/s)</th>\n",
       "      <th>Vp_dry (m/s)</th>\n",
       "      <th>Vs_dry (m/s)</th>\n",
       "    </tr>\n",
       "  </thead>\n",
       "  <tbody>\n",
       "    <tr>\n",
       "      <th>0</th>\n",
       "      <td>3.0</td>\n",
       "      <td>64.091</td>\n",
       "      <td>243.76</td>\n",
       "      <td>998.35</td>\n",
       "      <td>1501.6</td>\n",
       "      <td>4632.6235</td>\n",
       "      <td>3243.1127</td>\n",
       "      <td>4059.7284</td>\n",
       "      <td>2995.8948</td>\n",
       "    </tr>\n",
       "    <tr>\n",
       "      <th>1</th>\n",
       "      <td>5.0</td>\n",
       "      <td>131.270</td>\n",
       "      <td>220.79</td>\n",
       "      <td>999.25</td>\n",
       "      <td>1504.9</td>\n",
       "      <td>4605.1651</td>\n",
       "      <td>3229.6318</td>\n",
       "      <td>4164.1486</td>\n",
       "      <td>3047.5880</td>\n",
       "    </tr>\n",
       "    <tr>\n",
       "      <th>2</th>\n",
       "      <td>7.0</td>\n",
       "      <td>743.030</td>\n",
       "      <td>320.36</td>\n",
       "      <td>1000.10</td>\n",
       "      <td>1508.3</td>\n",
       "      <td>4660.4113</td>\n",
       "      <td>3243.1127</td>\n",
       "      <td>4269.4554</td>\n",
       "      <td>3093.4569</td>\n",
       "    </tr>\n",
       "    <tr>\n",
       "      <th>3</th>\n",
       "      <td>11.0</td>\n",
       "      <td>832.570</td>\n",
       "      <td>456.41</td>\n",
       "      <td>1001.90</td>\n",
       "      <td>1514.9</td>\n",
       "      <td>4749.9563</td>\n",
       "      <td>3264.5258</td>\n",
       "      <td>4465.3943</td>\n",
       "      <td>3184.8281</td>\n",
       "    </tr>\n",
       "    <tr>\n",
       "      <th>4</th>\n",
       "      <td>13.0</td>\n",
       "      <td>856.870</td>\n",
       "      <td>496.64</td>\n",
       "      <td>1002.80</td>\n",
       "      <td>1518.3</td>\n",
       "      <td>4758.2677</td>\n",
       "      <td>3270.4149</td>\n",
       "      <td>4558.0285</td>\n",
       "      <td>3225.1916</td>\n",
       "    </tr>\n",
       "    <tr>\n",
       "      <th>5</th>\n",
       "      <td>15.0</td>\n",
       "      <td>876.470</td>\n",
       "      <td>530.04</td>\n",
       "      <td>1003.70</td>\n",
       "      <td>1521.6</td>\n",
       "      <td>4774.9781</td>\n",
       "      <td>3276.3253</td>\n",
       "      <td>4623.6889</td>\n",
       "      <td>3253.3743</td>\n",
       "    </tr>\n",
       "    <tr>\n",
       "      <th>6</th>\n",
       "      <td>23.0</td>\n",
       "      <td>932.250</td>\n",
       "      <td>629.67</td>\n",
       "      <td>1007.10</td>\n",
       "      <td>1535.0</td>\n",
       "      <td>4830.1066</td>\n",
       "      <td>3278.3002</td>\n",
       "      <td>4832.6729</td>\n",
       "      <td>3363.6361</td>\n",
       "    </tr>\n",
       "    <tr>\n",
       "      <th>7</th>\n",
       "      <td>25.0</td>\n",
       "      <td>942.980</td>\n",
       "      <td>649.71</td>\n",
       "      <td>1008.00</td>\n",
       "      <td>1538.3</td>\n",
       "      <td>4843.0098</td>\n",
       "      <td>3280.2774</td>\n",
       "      <td>4869.3403</td>\n",
       "      <td>3380.3320</td>\n",
       "    </tr>\n",
       "  </tbody>\n",
       "</table>\n",
       "</div>"
      ],
      "text/plain": [
       "   Pressure (MPa)  Density_CO2 (kg/m3)  Sound Spd_CO2 (m/s)  \\\n",
       "0             3.0               64.091               243.76   \n",
       "1             5.0              131.270               220.79   \n",
       "2             7.0              743.030               320.36   \n",
       "3            11.0              832.570               456.41   \n",
       "4            13.0              856.870               496.64   \n",
       "5            15.0              876.470               530.04   \n",
       "6            23.0              932.250               629.67   \n",
       "7            25.0              942.980               649.71   \n",
       "\n",
       "   Density_H2O (kg/m3)  Sound Spd_H2O (m/s)  Vp_CO2 (m/s)  Vs_CO2 (m/s)  \\\n",
       "0               998.35               1501.6     4632.6235     3243.1127   \n",
       "1               999.25               1504.9     4605.1651     3229.6318   \n",
       "2              1000.10               1508.3     4660.4113     3243.1127   \n",
       "3              1001.90               1514.9     4749.9563     3264.5258   \n",
       "4              1002.80               1518.3     4758.2677     3270.4149   \n",
       "5              1003.70               1521.6     4774.9781     3276.3253   \n",
       "6              1007.10               1535.0     4830.1066     3278.3002   \n",
       "7              1008.00               1538.3     4843.0098     3280.2774   \n",
       "\n",
       "   Vp_dry (m/s)  Vs_dry (m/s)  \n",
       "0     4059.7284     2995.8948  \n",
       "1     4164.1486     3047.5880  \n",
       "2     4269.4554     3093.4569  \n",
       "3     4465.3943     3184.8281  \n",
       "4     4558.0285     3225.1916  \n",
       "5     4623.6889     3253.3743  \n",
       "6     4832.6729     3363.6361  \n",
       "7     4869.3403     3380.3320  "
      ]
     },
     "execution_count": 4,
     "metadata": {},
     "output_type": "execute_result"
    }
   ],
   "source": [
    "porosity = 0.11# 0.0335\n",
    "grain_density = 2.632 * 1000 # Kg/m3\n",
    "\n",
    "#  read velocities from laboratory measurments\n",
    "Vp_25 = pd.read_csv('data/CAS/25/Vp.dat', sep=\"  \", names=['Pressure (MPa)','Vp_CO2 (m/s)'], header=None)\n",
    "Vs_25 = pd.read_csv('data/CAS/25/Vs.dat', sep=\"  \", names=['Pressure (MPa)','Vs_CO2 (m/s)'], header=None)\n",
    "Vp_35 = pd.read_csv('data/CAS/35/Vp.dat', sep=\"  \", names=['Pressure (MPa)','Vp_CO2 (m/s)'], header=None)\n",
    "Vs_35 = pd.read_csv('data/CAS/35/Vs.dat', sep=\"  \", names=['Pressure (MPa)','Vs_CO2 (m/s)'], header=None)\n",
    "Vp_25_dry = pd.read_csv('data/CAS/dry/Vp.dat', sep=\"  \", names=['Pressure (MPa)','Vp_dry (m/s)'], header=None)\n",
    "Vs_25_dry = pd.read_csv('data/CAS/dry/Vs.dat', sep=\"  \", names=['Pressure (MPa)','Vs_dry (m/s)'], header=None)\n",
    "\n",
    "# concatenate velocities\n",
    "V_25 = pd.merge(Vp_25, Vs_25, on='Pressure (MPa)')\n",
    "V_25 = pd.merge(V_25, Vp_25_dry, on='Pressure (MPa)')\n",
    "V_25 = pd.merge(V_25, Vs_25_dry, on='Pressure (MPa)')\n",
    "V_35 = pd.merge(Vp_35, Vs_35, on='Pressure (MPa)')\n",
    "# concatenate physical properties\n",
    "pp_25 = pd.merge(CO2_25, H2O_25, on='Pressure (MPa)')\n",
    "pp_35 = pd.merge(CO2_35, H2O_35, on='Pressure (MPa)')\n",
    "pp_25 = pd.merge(pp_25, V_25, on='Pressure (MPa)')\n",
    "pp_35 = pd.merge(pp_35, V_35, on='Pressure (MPa)')\n",
    "pp_25"
   ]
  },
  {
   "cell_type": "code",
   "execution_count": 5,
   "metadata": {
    "collapsed": false,
    "run_control": {
     "marked": false
    }
   },
   "outputs": [],
   "source": [
    "# Density of CO2 saturated sample\n",
    "pp_25['Density_rock_CO2 (kg/m3)'] = pp_25['Density_CO2 (kg/m3)'] * porosity + grain_density * (1-porosity)\n",
    "pp_35['Density_rock_CO2 (kg/m3)'] = pp_35['Density_CO2 (kg/m3)'] * porosity + grain_density * (1-porosity)"
   ]
  },
  {
   "cell_type": "code",
   "execution_count": 6,
   "metadata": {
    "collapsed": false,
    "run_control": {
     "marked": false
    }
   },
   "outputs": [],
   "source": [
    "# Impedence of CO2 saturated sample\n",
    "pp_25['Zp_CO2 (kg/m3 . m/s)'] = (pp_25['Density_rock_CO2 (kg/m3)'] * pp_25['Vp_CO2 (m/s)']) / 1e6\n",
    "pp_35['Zp_CO2 (kg/m3 . m/s)'] = (pp_35['Density_rock_CO2 (kg/m3)'] * pp_35['Vp_CO2 (m/s)']) / 1e6\n",
    "\n",
    "pp_25['Zs_CO2 (kg/m3 . m/s)'] = (pp_25['Density_rock_CO2 (kg/m3)'] * pp_25['Vs_CO2 (m/s)']) / 1e6\n",
    "pp_35['Zs_CO2 (kg/m3 . m/s)'] = (pp_35['Density_rock_CO2 (kg/m3)'] * pp_35['Vs_CO2 (m/s)']) / 1e6"
   ]
  },
  {
   "cell_type": "markdown",
   "metadata": {
    "run_control": {
     "marked": false
    }
   },
   "source": [
    "### Water velocities calculations @ 25ºC"
   ]
  },
  {
   "cell_type": "code",
   "execution_count": 8,
   "metadata": {
    "collapsed": false,
    "run_control": {
     "marked": false
    }
   },
   "outputs": [
    {
     "data": {
      "text/html": [
       "<div>\n",
       "<table border=\"1\" class=\"dataframe\">\n",
       "  <thead>\n",
       "    <tr style=\"text-align: right;\">\n",
       "      <th></th>\n",
       "      <th>Pressure (MPa)</th>\n",
       "      <th>Density_CO2 (kg/m3)</th>\n",
       "      <th>Sound Spd_CO2 (m/s)</th>\n",
       "      <th>Density_H2O (kg/m3)</th>\n",
       "      <th>Sound Spd_H2O (m/s)</th>\n",
       "      <th>Vp_CO2 (m/s)</th>\n",
       "      <th>Vs_CO2 (m/s)</th>\n",
       "      <th>Vp_dry (m/s)</th>\n",
       "      <th>Vs_dry (m/s)</th>\n",
       "      <th>Density_rock_CO2 (kg/m3)</th>\n",
       "      <th>Zp_CO2 (kg/m3 . m/s)</th>\n",
       "      <th>Zs_CO2 (kg/m3 . m/s)</th>\n",
       "    </tr>\n",
       "  </thead>\n",
       "  <tbody>\n",
       "    <tr>\n",
       "      <th>0</th>\n",
       "      <td>3.0</td>\n",
       "      <td>64.091</td>\n",
       "      <td>243.76</td>\n",
       "      <td>998.35</td>\n",
       "      <td>1501.6</td>\n",
       "      <td>4632.6235</td>\n",
       "      <td>3243.1127</td>\n",
       "      <td>4059.7284</td>\n",
       "      <td>2995.8948</td>\n",
       "      <td>2349.53001</td>\n",
       "      <td>10.884488</td>\n",
       "      <td>7.619791</td>\n",
       "    </tr>\n",
       "    <tr>\n",
       "      <th>1</th>\n",
       "      <td>5.0</td>\n",
       "      <td>131.270</td>\n",
       "      <td>220.79</td>\n",
       "      <td>999.25</td>\n",
       "      <td>1504.9</td>\n",
       "      <td>4605.1651</td>\n",
       "      <td>3229.6318</td>\n",
       "      <td>4164.1486</td>\n",
       "      <td>3047.5880</td>\n",
       "      <td>2356.91970</td>\n",
       "      <td>10.854004</td>\n",
       "      <td>7.611983</td>\n",
       "    </tr>\n",
       "    <tr>\n",
       "      <th>2</th>\n",
       "      <td>7.0</td>\n",
       "      <td>743.030</td>\n",
       "      <td>320.36</td>\n",
       "      <td>1000.10</td>\n",
       "      <td>1508.3</td>\n",
       "      <td>4660.4113</td>\n",
       "      <td>3243.1127</td>\n",
       "      <td>4269.4554</td>\n",
       "      <td>3093.4569</td>\n",
       "      <td>2424.21330</td>\n",
       "      <td>11.297831</td>\n",
       "      <td>7.861997</td>\n",
       "    </tr>\n",
       "    <tr>\n",
       "      <th>3</th>\n",
       "      <td>11.0</td>\n",
       "      <td>832.570</td>\n",
       "      <td>456.41</td>\n",
       "      <td>1001.90</td>\n",
       "      <td>1514.9</td>\n",
       "      <td>4749.9563</td>\n",
       "      <td>3264.5258</td>\n",
       "      <td>4465.3943</td>\n",
       "      <td>3184.8281</td>\n",
       "      <td>2434.06270</td>\n",
       "      <td>11.561691</td>\n",
       "      <td>7.946060</td>\n",
       "    </tr>\n",
       "    <tr>\n",
       "      <th>4</th>\n",
       "      <td>13.0</td>\n",
       "      <td>856.870</td>\n",
       "      <td>496.64</td>\n",
       "      <td>1002.80</td>\n",
       "      <td>1518.3</td>\n",
       "      <td>4758.2677</td>\n",
       "      <td>3270.4149</td>\n",
       "      <td>4558.0285</td>\n",
       "      <td>3225.1916</td>\n",
       "      <td>2436.73570</td>\n",
       "      <td>11.594641</td>\n",
       "      <td>7.969137</td>\n",
       "    </tr>\n",
       "    <tr>\n",
       "      <th>5</th>\n",
       "      <td>15.0</td>\n",
       "      <td>876.470</td>\n",
       "      <td>530.04</td>\n",
       "      <td>1003.70</td>\n",
       "      <td>1521.6</td>\n",
       "      <td>4774.9781</td>\n",
       "      <td>3276.3253</td>\n",
       "      <td>4623.6889</td>\n",
       "      <td>3253.3743</td>\n",
       "      <td>2438.89170</td>\n",
       "      <td>11.645654</td>\n",
       "      <td>7.990603</td>\n",
       "    </tr>\n",
       "    <tr>\n",
       "      <th>6</th>\n",
       "      <td>23.0</td>\n",
       "      <td>932.250</td>\n",
       "      <td>629.67</td>\n",
       "      <td>1007.10</td>\n",
       "      <td>1535.0</td>\n",
       "      <td>4830.1066</td>\n",
       "      <td>3278.3002</td>\n",
       "      <td>4832.6729</td>\n",
       "      <td>3363.6361</td>\n",
       "      <td>2445.02750</td>\n",
       "      <td>11.809743</td>\n",
       "      <td>8.015534</td>\n",
       "    </tr>\n",
       "    <tr>\n",
       "      <th>7</th>\n",
       "      <td>25.0</td>\n",
       "      <td>942.980</td>\n",
       "      <td>649.71</td>\n",
       "      <td>1008.00</td>\n",
       "      <td>1538.3</td>\n",
       "      <td>4843.0098</td>\n",
       "      <td>3280.2774</td>\n",
       "      <td>4869.3403</td>\n",
       "      <td>3380.3320</td>\n",
       "      <td>2446.20780</td>\n",
       "      <td>11.847008</td>\n",
       "      <td>8.024240</td>\n",
       "    </tr>\n",
       "  </tbody>\n",
       "</table>\n",
       "</div>"
      ],
      "text/plain": [
       "   Pressure (MPa)  Density_CO2 (kg/m3)  Sound Spd_CO2 (m/s)  \\\n",
       "0             3.0               64.091               243.76   \n",
       "1             5.0              131.270               220.79   \n",
       "2             7.0              743.030               320.36   \n",
       "3            11.0              832.570               456.41   \n",
       "4            13.0              856.870               496.64   \n",
       "5            15.0              876.470               530.04   \n",
       "6            23.0              932.250               629.67   \n",
       "7            25.0              942.980               649.71   \n",
       "\n",
       "   Density_H2O (kg/m3)  Sound Spd_H2O (m/s)  Vp_CO2 (m/s)  Vs_CO2 (m/s)  \\\n",
       "0               998.35               1501.6     4632.6235     3243.1127   \n",
       "1               999.25               1504.9     4605.1651     3229.6318   \n",
       "2              1000.10               1508.3     4660.4113     3243.1127   \n",
       "3              1001.90               1514.9     4749.9563     3264.5258   \n",
       "4              1002.80               1518.3     4758.2677     3270.4149   \n",
       "5              1003.70               1521.6     4774.9781     3276.3253   \n",
       "6              1007.10               1535.0     4830.1066     3278.3002   \n",
       "7              1008.00               1538.3     4843.0098     3280.2774   \n",
       "\n",
       "   Vp_dry (m/s)  Vs_dry (m/s)  Density_rock_CO2 (kg/m3)  Zp_CO2 (kg/m3 . m/s)  \\\n",
       "0     4059.7284     2995.8948                2349.53001             10.884488   \n",
       "1     4164.1486     3047.5880                2356.91970             10.854004   \n",
       "2     4269.4554     3093.4569                2424.21330             11.297831   \n",
       "3     4465.3943     3184.8281                2434.06270             11.561691   \n",
       "4     4558.0285     3225.1916                2436.73570             11.594641   \n",
       "5     4623.6889     3253.3743                2438.89170             11.645654   \n",
       "6     4832.6729     3363.6361                2445.02750             11.809743   \n",
       "7     4869.3403     3380.3320                2446.20780             11.847008   \n",
       "\n",
       "   Zs_CO2 (kg/m3 . m/s)  \n",
       "0              7.619791  \n",
       "1              7.611983  \n",
       "2              7.861997  \n",
       "3              7.946060  \n",
       "4              7.969137  \n",
       "5              7.990603  \n",
       "6              8.015534  \n",
       "7              8.024240  "
      ]
     },
     "execution_count": 8,
     "metadata": {},
     "output_type": "execute_result"
    }
   ],
   "source": [
    "pp_25"
   ]
  },
  {
   "cell_type": "code",
   "execution_count": 9,
   "metadata": {
    "collapsed": false,
    "run_control": {
     "marked": false
    }
   },
   "outputs": [],
   "source": [
    "### Gassmann parameters for Vp_h2o calculation\n",
    "K_dry = 18.70 * 1e9# Gpa\n",
    "# K_dry = pp_25['Vp_dry (m/s)']**2 * grain_density * (1-porosity) - 4/3*\n",
    "K_s = 62.76 *1e9 #Gpa\n",
    "K_h2o = (pp_25['Sound Spd_H2O (m/s)']**2 * pp_25['Density_H2O (kg/m3)'] ) \n",
    "G = 25.69 * 1e9# Gpa\n",
    "# G = pp_25['Density_rock_CO2 (kg/m3)'] * pp_25['Vs_CO2 (m/s)'] ** 2\n",
    "# G_dry = (grain_density * (1-porosity)) * pp_25['Vs_dry (m/s)']\n",
    "# K_dry = (pp_25['Vp_dry (m/s)']**2) * (grain_density * (1-porosity)) - 4/3*G_dry\n",
    "\n",
    "# G = (1 - porosity) * grain_density * pp_25['Vs_dry (m/s)']**2\n",
    "\n",
    "\n",
    "upper = (1 - (K_dry/K_s))**2\n",
    "lower = (porosity/K_h2o) + ((1-porosity)/K_s) - (K_dry/K_s**2)\n",
    "K = K_dry + (upper)/(lower)\n",
    "\n",
    "pp_25['Density_rock_H2O (kg/m3)'] = pp_25['Density_H2O (kg/m3)'] * porosity + grain_density * (1-porosity)\n",
    "# pp_35['Density_rock_H2O (kg/m3)'] = pp_35['Density_H2O (kg/m3)'] * porosity + grain_density * (1-porosity)\n",
    "\n",
    "pp_25['Vp_H2O (m/s)'] = np.sqrt((K + 4/3*G) / pp_25['Density_rock_H2O (kg/m3)'])\n",
    "pp_25['Vs_H2O (m/s)'] = np.sqrt(G / pp_25['Density_rock_H2O (kg/m3)'])\n",
    "\n",
    "pp_25['Zp_H2O (kg/m3 . m/s)'] = (pp_25['Density_rock_H2O (kg/m3)'] * pp_25['Vp_H2O (m/s)']) / 1e6\n",
    "pp_25['Zs_H2O (kg/m3 . m/s)'] = (pp_25['Density_rock_H2O (kg/m3)'] * pp_25['Vs_H2O (m/s)']) / 1e6"
   ]
  },
  {
   "cell_type": "markdown",
   "metadata": {
    "collapsed": false,
    "run_control": {
     "marked": false
    }
   },
   "source": [
    "### Impedance of CO2 saturated and H2O saturated cairnside sample"
   ]
  },
  {
   "cell_type": "code",
   "execution_count": 49,
   "metadata": {
    "collapsed": false
   },
   "outputs": [
    {
     "data": {
      "text/plain": [
       "<matplotlib.patches.Polygon at 0x1182ba6d8>"
      ]
     },
     "execution_count": 49,
     "metadata": {},
     "output_type": "execute_result"
    },
    {
     "data": {
      "image/png": "[encoded data removed]",
      "text/plain": [
       "<matplotlib.figure.Figure at 0x11790a9e8>"
      ]
     },
     "metadata": {},
     "output_type": "display_data"
    }
   ],
   "source": [
    "fig, (ax1, ax2) = plt.subplots(nrows=1,ncols=2, figsize=(12,4))\n",
    "\n",
    "# plt.subplot(1,2,1)\n",
    "ax1.plot(pp_25['Pressure (MPa)'], pp_25['Zp_CO2 (kg/m3 . m/s)'], marker='o', color='#E83733', linewidth=2)\n",
    "ax1.plot(pp_35['Pressure (MPa)'], pp_35['Zp_CO2 (kg/m3 . m/s)'], marker='o', color='#E8D84E', linewidth=2)\n",
    "ax1.plot(pp_25['Pressure (MPa)'], pp_25['Zp_H2O (kg/m3 . m/s)'], marker='o', color='#5D8CBA', linewidth=2)\n",
    "ax1.yaxis.grid(True)\n",
    "ax1.set_xlim([0,27])\n",
    "ax2.set_ylim([10.6,12.6])\n",
    "ax1.set_xlabel('Pore Pressure (MPa)')\n",
    "ax1.set_ylabel('Impedence (Mrayl)')\n",
    "ax1.set_title('P-wave acoustic impedance\\n Cairnside')\n",
    "ax1.axvspan(0, 7, color='#D3D3D3', alpha=0.5, lw=0)\n",
    "\n",
    "\n",
    "# plt.subplot(1,2,2)\n",
    "ax2.plot(pp_25['Pressure (MPa)'], pp_25['Zs_H2O (kg/m3 . m/s)'], marker='o', color='#5D8CBA', linewidth=2, label= 'water saturated')\n",
    "ax2.plot(pp_25['Pressure (MPa)'], pp_25['Zs_CO2 (kg/m3 . m/s)'], marker='o', color='#E83733', linewidth=2, label= r'$\\mathregular{CO_2}$ saturated at 25ºC')\n",
    "ax2.plot(pp_35['Pressure (MPa)'], pp_35['Zs_CO2 (kg/m3 . m/s)'], marker='o', color='#E8D84E', linewidth=2, label= r'$\\mathregular{CO_2}$ saturated at 35ºC')\n",
    "\n",
    "ax2.yaxis.grid(True)\n",
    "ax2.set_xlim([0,27])\n",
    "ax2.set_ylim([7.5,8.2])\n",
    "ax2.set_xlabel('Pore Pressure (MPa)')\n",
    "legend = ax2.legend(loc='lower right', frameon=True, fancybox=True)\n",
    "frame = legend.get_frame()\n",
    "frame.set_facecolor('white')\n",
    "ax2.set_title('S-wave  impedance\\n Cairnside')\n",
    "ax2.axvspan(0, 7, color='#D3D3D3', alpha=0.5, lw=0)\n",
    "\n"
   ]
  },
  {
   "cell_type": "markdown",
   "metadata": {},
   "source": [
    "### Reflectivity\n",
    "\n",
    "For the simplest case of normal incidence seismic reflections from the interface between two elastic materials, the reflection co-efficient R of the reflected wave normalized with respect to the amplitude of the incident wave is\n",
    "\n",
    "$$ R = \\frac{Z_2 - Z1}{Z_2 + Z_1}$$\n",
    "\n",
    "where $Zi = V  \\rho$ is the acoustic impedance that is the simple product of the wave speed and the material density and medium 1 and 2 are the upper and lower material layers, respectively.\n",
    "\n",
    "Imagine an hypothetical geological structure consisting of a formation with the acoustic properties of cairnside sample that has a fully CO2-saturated zone immediately overlying a fully water-saturated zone."
   ]
  },
  {
   "cell_type": "code",
   "execution_count": 12,
   "metadata": {
    "collapsed": true
   },
   "outputs": [],
   "source": [
    "pp_25['R_p'] = (pp_25['Zp_H2O (kg/m3 . m/s)'] - pp_25['Zp_CO2 (kg/m3 . m/s)']) / (pp_25['Zp_H2O (kg/m3 . m/s)'] + pp_25['Zp_CO2 (kg/m3 . m/s)'])\n",
    "pp_25['R_s'] = (pp_25['Zs_H2O (kg/m3 . m/s)'] - pp_25['Zs_CO2 (kg/m3 . m/s)']) / (pp_25['Zs_H2O (kg/m3 . m/s)'] + pp_25['Zs_CO2 (kg/m3 . m/s)'])"
   ]
  },
  {
   "cell_type": "code",
   "execution_count": 47,
   "metadata": {
    "collapsed": false,
    "run_control": {
     "marked": false
    }
   },
   "outputs": [
    {
     "data": {
      "text/plain": [
       "<matplotlib.patches.Polygon at 0x1180e8898>"
      ]
     },
     "execution_count": 47,
     "metadata": {},
     "output_type": "execute_result"
    },
    {
     "data": {
      "image/png": "[encoded data removed]",
      "text/plain": [
       "<matplotlib.figure.Figure at 0x117f25080>"
      ]
     },
     "metadata": {},
     "output_type": "display_data"
    }
   ],
   "source": [
    "fig, ax1 = plt.subplots(nrows=1,ncols=1, figsize=(6,4))\n",
    "\n",
    "# plt.subplot(1,2,1)\n",
    "ax1.plot(pp_25['Pressure (MPa)'], pp_25['R_p'], marker='o', color='#8688B1', linewidth=2, label= 'P-wave')\n",
    "ax1.plot(pp_25['Pressure (MPa)'], pp_25['R_s'], marker='o', color='#FF3B72',linewidth=2 ,label= 'S-wave')\n",
    "# ax1.plot(pp_25['Pressure (MPa)'], pp_25['Zp_H2O (kg/m3 . m/s)'], marker='^')\n",
    "ax1.yaxis.grid(True)\n",
    "ax1.set_xlim([0,27])\n",
    "ax1.set_xlabel('Pore Pressure (MPa)')\n",
    "ax1.set_ylabel('Reflection coefficient')\n",
    "legend = ax1.legend(loc='upper right', frameon=True, fancybox=True)\n",
    "frame = legend.get_frame()\n",
    "frame.set_facecolor('white')\n",
    "ax1.set_title('Cairnside')\n",
    "ax1.axvspan(0, 7, color='#D3D3D3', alpha=0.5, lw=0)"
   ]
  }
 ],
 "metadata": {
  "anaconda-cloud": {},
  "kernelspec": {
   "display_name": "Python [Root]",
   "language": "python",
   "name": "Python [Root]"
  },
  "language_info": {
   "codemirror_mode": {
    "name": "ipython",
    "version": 3
   },
   "file_extension": ".py",
   "mimetype": "text/x-python",
   "name": "python",
   "nbconvert_exporter": "python",
   "pygments_lexer": "ipython3",
   "version": "3.5.2"
  }
 },
 "nbformat": 4,
 "nbformat_minor": 0
}
