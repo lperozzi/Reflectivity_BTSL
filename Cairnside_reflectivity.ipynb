{
 "cells": [
  {
   "cell_type": "code",
   "execution_count": 1,
   "metadata": {
    "collapsed": true,
    "run_control": {
     "marked": true
    }
   },
   "outputs": [],
   "source": [
    "%matplotlib inline\n",
    "\n",
    "import numpy as np\n",
    "import pandas as pd\n",
    "import matplotlib.pylab as plt"
   ]
  },
  {
   "cell_type": "code",
   "execution_count": 2,
   "metadata": {
    "collapsed": false,
    "run_control": {
     "marked": true
    }
   },
   "outputs": [],
   "source": [
    "col_interest = ['Pressure (MPa)','Density (kg/m3)', 'Sound Spd. (m/s)']\n",
    "CO2_25 = pd.read_csv('data/co2/25/co2_25.txt', delimiter=\"\\t\")\n",
    "CO2_25 = CO2_25[col_interest]\n",
    "CO2_25.columns = ['Pressure (MPa)', 'Density_CO2 (kg/m3)', 'Sound Spd_CO2 (m/s)' ]\n",
    "CO2_35 = pd.read_csv('data/co2/35/co2_35.txt', delimiter=\"\\t\")\n",
    "CO2_35 = CO2_35[col_interest]\n",
    "CO2_35.columns = ['Pressure (MPa)', 'Density_CO2 (kg/m3)', 'Sound Spd_CO2 (m/s)']\n",
    "H2O_25 = pd.read_csv('data/H2O/25/h2o_25.txt', delimiter=\"\\t\")\n",
    "H2O_25 = H2O_25[col_interest]\n",
    "H2O_25.columns = ['Pressure (MPa)', 'Density_H2O (kg/m3)', 'Sound Spd_H2O (m/s)']\n",
    "H2O_35 = pd.read_csv('data/H2O/35/h2o_35.txt', delimiter=\"\\t\")\n",
    "H2O_35 = H2O_35[col_interest]\n",
    "H2O_35.columns = ['Pressure (MPa)', 'Density_H2O (kg/m3)', 'Sound Spd_H2O (m/s)']"
   ]
  },
  {
   "cell_type": "code",
   "execution_count": 3,
   "metadata": {
    "collapsed": false,
    "run_control": {
     "marked": true
    }
   },
   "outputs": [
    {
     "data": {
      "text/html": [
       "<div>\n",
       "<table border=\"1\" class=\"dataframe\">\n",
       "  <thead>\n",
       "    <tr style=\"text-align: right;\">\n",
       "      <th></th>\n",
       "      <th>Pressure (MPa)</th>\n",
       "      <th>Density_H2O (kg/m3)</th>\n",
       "      <th>Sound Spd_H2O (m/s)</th>\n",
       "    </tr>\n",
       "  </thead>\n",
       "  <tbody>\n",
       "    <tr>\n",
       "      <th>0</th>\n",
       "      <td>0.00000</td>\n",
       "      <td>0.000000</td>\n",
       "      <td>427.63</td>\n",
       "    </tr>\n",
       "    <tr>\n",
       "      <th>1</th>\n",
       "      <td>0.00317</td>\n",
       "      <td>0.023075</td>\n",
       "      <td>426.63</td>\n",
       "    </tr>\n",
       "    <tr>\n",
       "      <th>2</th>\n",
       "      <td>0.00317</td>\n",
       "      <td>997.000000</td>\n",
       "      <td>1496.50</td>\n",
       "    </tr>\n",
       "    <tr>\n",
       "      <th>3</th>\n",
       "      <td>1.00000</td>\n",
       "      <td>997.450000</td>\n",
       "      <td>1498.20</td>\n",
       "    </tr>\n",
       "    <tr>\n",
       "      <th>4</th>\n",
       "      <td>2.00000</td>\n",
       "      <td>997.900000</td>\n",
       "      <td>1499.90</td>\n",
       "    </tr>\n",
       "    <tr>\n",
       "      <th>5</th>\n",
       "      <td>3.00000</td>\n",
       "      <td>998.350000</td>\n",
       "      <td>1501.60</td>\n",
       "    </tr>\n",
       "    <tr>\n",
       "      <th>6</th>\n",
       "      <td>4.00000</td>\n",
       "      <td>998.800000</td>\n",
       "      <td>1503.20</td>\n",
       "    </tr>\n",
       "    <tr>\n",
       "      <th>7</th>\n",
       "      <td>5.00000</td>\n",
       "      <td>999.250000</td>\n",
       "      <td>1504.90</td>\n",
       "    </tr>\n",
       "    <tr>\n",
       "      <th>8</th>\n",
       "      <td>6.00000</td>\n",
       "      <td>999.690000</td>\n",
       "      <td>1506.60</td>\n",
       "    </tr>\n",
       "    <tr>\n",
       "      <th>9</th>\n",
       "      <td>7.00000</td>\n",
       "      <td>1000.100000</td>\n",
       "      <td>1508.30</td>\n",
       "    </tr>\n",
       "  </tbody>\n",
       "</table>\n",
       "</div>"
      ],
      "text/plain": [
       "   Pressure (MPa)  Density_H2O (kg/m3)  Sound Spd_H2O (m/s)\n",
       "0         0.00000             0.000000               427.63\n",
       "1         0.00317             0.023075               426.63\n",
       "2         0.00317           997.000000              1496.50\n",
       "3         1.00000           997.450000              1498.20\n",
       "4         2.00000           997.900000              1499.90\n",
       "5         3.00000           998.350000              1501.60\n",
       "6         4.00000           998.800000              1503.20\n",
       "7         5.00000           999.250000              1504.90\n",
       "8         6.00000           999.690000              1506.60\n",
       "9         7.00000          1000.100000              1508.30"
      ]
     },
     "execution_count": 3,
     "metadata": {},
     "output_type": "execute_result"
    }
   ],
   "source": [
    "H2O_25.head(10)"
   ]
  },
  {
   "cell_type": "markdown",
   "metadata": {
    "run_control": {
     "marked": false
    }
   },
   "source": [
    "### Cairnside physical properties"
   ]
  },
  {
   "cell_type": "code",
   "execution_count": 4,
   "metadata": {
    "collapsed": false,
    "run_control": {
     "marked": true
    }
   },
   "outputs": [
    {
     "name": "stderr",
     "output_type": "stream",
     "text": [
      "/Users/lorenzoperozzi/anaconda3/lib/python3.5/site-packages/ipykernel/__main__.py:5: ParserWarning: Falling back to the 'python' engine because the 'c' engine does not support regex separators (separators > 1 char and different from '\\s+' are interpreted as regex); you can avoid this warning by specifying engine='python'.\n",
      "/Users/lorenzoperozzi/anaconda3/lib/python3.5/site-packages/ipykernel/__main__.py:6: ParserWarning: Falling back to the 'python' engine because the 'c' engine does not support regex separators (separators > 1 char and different from '\\s+' are interpreted as regex); you can avoid this warning by specifying engine='python'.\n",
      "/Users/lorenzoperozzi/anaconda3/lib/python3.5/site-packages/ipykernel/__main__.py:7: ParserWarning: Falling back to the 'python' engine because the 'c' engine does not support regex separators (separators > 1 char and different from '\\s+' are interpreted as regex); you can avoid this warning by specifying engine='python'.\n",
      "/Users/lorenzoperozzi/anaconda3/lib/python3.5/site-packages/ipykernel/__main__.py:8: ParserWarning: Falling back to the 'python' engine because the 'c' engine does not support regex separators (separators > 1 char and different from '\\s+' are interpreted as regex); you can avoid this warning by specifying engine='python'.\n"
     ]
    },
    {
     "data": {
      "text/html": [
       "<div>\n",
       "<table border=\"1\" class=\"dataframe\">\n",
       "  <thead>\n",
       "    <tr style=\"text-align: right;\">\n",
       "      <th></th>\n",
       "      <th>Pressure (MPa)</th>\n",
       "      <th>Density_CO2 (kg/m3)</th>\n",
       "      <th>Sound Spd_CO2 (m/s)</th>\n",
       "      <th>Density_H2O (kg/m3)</th>\n",
       "      <th>Sound Spd_H2O (m/s)</th>\n",
       "      <th>Vp_CO2 (m/s)</th>\n",
       "      <th>Vs_CO2 (m/s)</th>\n",
       "    </tr>\n",
       "  </thead>\n",
       "  <tbody>\n",
       "    <tr>\n",
       "      <th>0</th>\n",
       "      <td>2.0</td>\n",
       "      <td>39.773</td>\n",
       "      <td>253.06</td>\n",
       "      <td>997.90</td>\n",
       "      <td>1499.9</td>\n",
       "      <td>4636.5729</td>\n",
       "      <td>3246.9851</td>\n",
       "    </tr>\n",
       "    <tr>\n",
       "      <th>1</th>\n",
       "      <td>3.0</td>\n",
       "      <td>64.091</td>\n",
       "      <td>243.76</td>\n",
       "      <td>998.35</td>\n",
       "      <td>1501.6</td>\n",
       "      <td>4632.6235</td>\n",
       "      <td>3243.1127</td>\n",
       "    </tr>\n",
       "    <tr>\n",
       "      <th>2</th>\n",
       "      <td>4.0</td>\n",
       "      <td>93.349</td>\n",
       "      <td>233.28</td>\n",
       "      <td>998.80</td>\n",
       "      <td>1503.2</td>\n",
       "      <td>4620.8156</td>\n",
       "      <td>3239.2496</td>\n",
       "    </tr>\n",
       "    <tr>\n",
       "      <th>3</th>\n",
       "      <td>5.0</td>\n",
       "      <td>131.270</td>\n",
       "      <td>220.79</td>\n",
       "      <td>999.25</td>\n",
       "      <td>1504.9</td>\n",
       "      <td>4605.1651</td>\n",
       "      <td>3229.6318</td>\n",
       "    </tr>\n",
       "    <tr>\n",
       "      <th>4</th>\n",
       "      <td>6.0</td>\n",
       "      <td>190.610</td>\n",
       "      <td>203.43</td>\n",
       "      <td>999.69</td>\n",
       "      <td>1506.6</td>\n",
       "      <td>4601.2690</td>\n",
       "      <td>3227.7151</td>\n",
       "    </tr>\n",
       "    <tr>\n",
       "      <th>5</th>\n",
       "      <td>7.0</td>\n",
       "      <td>743.030</td>\n",
       "      <td>320.36</td>\n",
       "      <td>1000.10</td>\n",
       "      <td>1508.3</td>\n",
       "      <td>4660.4113</td>\n",
       "      <td>3243.1127</td>\n",
       "    </tr>\n",
       "    <tr>\n",
       "      <th>6</th>\n",
       "      <td>8.0</td>\n",
       "      <td>776.640</td>\n",
       "      <td>369.05</td>\n",
       "      <td>1000.60</td>\n",
       "      <td>1509.9</td>\n",
       "      <td>4696.6321</td>\n",
       "      <td>3250.8667</td>\n",
       "    </tr>\n",
       "    <tr>\n",
       "      <th>7</th>\n",
       "      <td>9.0</td>\n",
       "      <td>799.650</td>\n",
       "      <td>404.05</td>\n",
       "      <td>1001.00</td>\n",
       "      <td>1511.6</td>\n",
       "      <td>4708.8312</td>\n",
       "      <td>3252.8110</td>\n",
       "    </tr>\n",
       "    <tr>\n",
       "      <th>8</th>\n",
       "      <td>11.0</td>\n",
       "      <td>832.570</td>\n",
       "      <td>456.41</td>\n",
       "      <td>1001.90</td>\n",
       "      <td>1514.9</td>\n",
       "      <td>4749.9563</td>\n",
       "      <td>3264.5258</td>\n",
       "    </tr>\n",
       "    <tr>\n",
       "      <th>9</th>\n",
       "      <td>13.0</td>\n",
       "      <td>856.870</td>\n",
       "      <td>496.64</td>\n",
       "      <td>1002.80</td>\n",
       "      <td>1518.3</td>\n",
       "      <td>4758.2677</td>\n",
       "      <td>3270.4149</td>\n",
       "    </tr>\n",
       "    <tr>\n",
       "      <th>10</th>\n",
       "      <td>15.0</td>\n",
       "      <td>876.470</td>\n",
       "      <td>530.04</td>\n",
       "      <td>1003.70</td>\n",
       "      <td>1521.6</td>\n",
       "      <td>4774.9781</td>\n",
       "      <td>3276.3253</td>\n",
       "    </tr>\n",
       "    <tr>\n",
       "      <th>11</th>\n",
       "      <td>17.0</td>\n",
       "      <td>893.090</td>\n",
       "      <td>558.98</td>\n",
       "      <td>1004.50</td>\n",
       "      <td>1525.0</td>\n",
       "      <td>4800.2648</td>\n",
       "      <td>3278.3002</td>\n",
       "    </tr>\n",
       "    <tr>\n",
       "      <th>12</th>\n",
       "      <td>19.0</td>\n",
       "      <td>907.600</td>\n",
       "      <td>584.74</td>\n",
       "      <td>1005.40</td>\n",
       "      <td>1528.3</td>\n",
       "      <td>4808.7533</td>\n",
       "      <td>3278.3002</td>\n",
       "    </tr>\n",
       "    <tr>\n",
       "      <th>13</th>\n",
       "      <td>21.0</td>\n",
       "      <td>920.530</td>\n",
       "      <td>608.13</td>\n",
       "      <td>1006.30</td>\n",
       "      <td>1531.6</td>\n",
       "      <td>4825.8208</td>\n",
       "      <td>3278.3002</td>\n",
       "    </tr>\n",
       "    <tr>\n",
       "      <th>14</th>\n",
       "      <td>23.0</td>\n",
       "      <td>932.250</td>\n",
       "      <td>629.67</td>\n",
       "      <td>1007.10</td>\n",
       "      <td>1535.0</td>\n",
       "      <td>4830.1066</td>\n",
       "      <td>3278.3002</td>\n",
       "    </tr>\n",
       "    <tr>\n",
       "      <th>15</th>\n",
       "      <td>25.0</td>\n",
       "      <td>942.980</td>\n",
       "      <td>649.71</td>\n",
       "      <td>1008.00</td>\n",
       "      <td>1538.3</td>\n",
       "      <td>4843.0098</td>\n",
       "      <td>3280.2774</td>\n",
       "    </tr>\n",
       "  </tbody>\n",
       "</table>\n",
       "</div>"
      ],
      "text/plain": [
       "    Pressure (MPa)  Density_CO2 (kg/m3)  Sound Spd_CO2 (m/s)  \\\n",
       "0              2.0               39.773               253.06   \n",
       "1              3.0               64.091               243.76   \n",
       "2              4.0               93.349               233.28   \n",
       "3              5.0              131.270               220.79   \n",
       "4              6.0              190.610               203.43   \n",
       "5              7.0              743.030               320.36   \n",
       "6              8.0              776.640               369.05   \n",
       "7              9.0              799.650               404.05   \n",
       "8             11.0              832.570               456.41   \n",
       "9             13.0              856.870               496.64   \n",
       "10            15.0              876.470               530.04   \n",
       "11            17.0              893.090               558.98   \n",
       "12            19.0              907.600               584.74   \n",
       "13            21.0              920.530               608.13   \n",
       "14            23.0              932.250               629.67   \n",
       "15            25.0              942.980               649.71   \n",
       "\n",
       "    Density_H2O (kg/m3)  Sound Spd_H2O (m/s)  Vp_CO2 (m/s)  Vs_CO2 (m/s)  \n",
       "0                997.90               1499.9     4636.5729     3246.9851  \n",
       "1                998.35               1501.6     4632.6235     3243.1127  \n",
       "2                998.80               1503.2     4620.8156     3239.2496  \n",
       "3                999.25               1504.9     4605.1651     3229.6318  \n",
       "4                999.69               1506.6     4601.2690     3227.7151  \n",
       "5               1000.10               1508.3     4660.4113     3243.1127  \n",
       "6               1000.60               1509.9     4696.6321     3250.8667  \n",
       "7               1001.00               1511.6     4708.8312     3252.8110  \n",
       "8               1001.90               1514.9     4749.9563     3264.5258  \n",
       "9               1002.80               1518.3     4758.2677     3270.4149  \n",
       "10              1003.70               1521.6     4774.9781     3276.3253  \n",
       "11              1004.50               1525.0     4800.2648     3278.3002  \n",
       "12              1005.40               1528.3     4808.7533     3278.3002  \n",
       "13              1006.30               1531.6     4825.8208     3278.3002  \n",
       "14              1007.10               1535.0     4830.1066     3278.3002  \n",
       "15              1008.00               1538.3     4843.0098     3280.2774  "
      ]
     },
     "execution_count": 4,
     "metadata": {},
     "output_type": "execute_result"
    }
   ],
   "source": [
    "porosity = 0.0335\n",
    "grain_density = 2.632 * 1000 # Kg/m3\n",
    "\n",
    "#  read velocities from laboratory measurments\n",
    "Vp_25 = pd.read_csv('data/CAS/25/Vp.dat', sep=\"  \", names=['Pressure (MPa)','Vp_CO2 (m/s)'], header=None)\n",
    "Vs_25 = pd.read_csv('data/CAS/25/Vs.dat', sep=\"  \", names=['Pressure (MPa)','Vs_CO2 (m/s)'], header=None)\n",
    "Vp_35 = pd.read_csv('data/CAS/35/Vp.dat', sep=\"  \", names=['Pressure (MPa)','Vp_CO2 (m/s)'], header=None)\n",
    "Vs_35 = pd.read_csv('data/CAS/35/Vs.dat', sep=\"  \", names=['Pressure (MPa)','Vs_CO2 (m/s)'], header=None)\n",
    "# concatenate velocities\n",
    "V_25 = pd.merge(Vp_25, Vs_25, on='Pressure (MPa)')\n",
    "V_35 = pd.merge(Vp_35, Vs_35, on='Pressure (MPa)')\n",
    "# concatenate physical properties\n",
    "pp_25 = pd.merge(CO2_25, H2O_25, on='Pressure (MPa)')\n",
    "pp_35 = pd.merge(CO2_35, H2O_35, on='Pressure (MPa)')\n",
    "pp_25 = pd.merge(pp_25, V_25, on='Pressure (MPa)')\n",
    "pp_35 = pd.merge(pp_35, V_35, on='Pressure (MPa)')\n",
    "pp_25"
   ]
  },
  {
   "cell_type": "code",
   "execution_count": 5,
   "metadata": {
    "collapsed": false,
    "run_control": {
     "marked": true
    }
   },
   "outputs": [],
   "source": [
    "# Density of CO2 saturated sample\n",
    "pp_25['Density_rock (kg/m3)'] = pp_25['Density_CO2 (kg/m3)'] * porosity + grain_density * (1-porosity)\n",
    "pp_35['Density_rock (kg/m3)'] = pp_35['Density_CO2 (kg/m3)'] * porosity + grain_density * (1-porosity)"
   ]
  },
  {
   "cell_type": "code",
   "execution_count": 6,
   "metadata": {
    "collapsed": false,
    "run_control": {
     "marked": true
    }
   },
   "outputs": [],
   "source": [
    "# Impedence of CO2 saturated sample\n",
    "pp_25['Z_CO2 (kg/m3 . m/s)'] = pp_25['Density_rock (kg/m3)'] * pp_25['Vp_CO2 (m/s)']\n",
    "pp_35['Z_CO2 (kg/m3 . m/s)'] = pp_35['Density_rock (kg/m3)'] * pp_35['Vp_CO2 (m/s)']"
   ]
  },
  {
   "cell_type": "code",
   "execution_count": 7,
   "metadata": {
    "collapsed": false,
    "run_control": {
     "marked": true
    },
    "scrolled": true
   },
   "outputs": [
    {
     "data": {
      "text/plain": [
       "[<matplotlib.lines.Line2D at 0x112d25e80>]"
      ]
     },
     "execution_count": 7,
     "metadata": {},
     "output_type": "execute_result"
    },
    {
     "data": {
      "image/png": "[encoded data removed]",
      "text/plain": [
       "<matplotlib.figure.Figure at 0x112a45898>"
      ]
     },
     "metadata": {},
     "output_type": "display_data"
    }
   ],
   "source": [
    "plt.plot(pp_25['Pressure (MPa)'], pp_25['Z_CO2 (kg/m3 . m/s)'], marker='x')\n",
    "plt.plot(pp_35['Pressure (MPa)'], pp_35['Z_CO2 (kg/m3 . m/s)'], marker='^')"
   ]
  },
  {
   "cell_type": "markdown",
   "metadata": {
    "run_control": {
     "marked": false
    }
   },
   "source": [
    "### Water velocities calculations @ 25ºC"
   ]
  },
  {
   "cell_type": "code",
   "execution_count": 8,
   "metadata": {
    "collapsed": false,
    "run_control": {
     "marked": true
    }
   },
   "outputs": [
    {
     "data": {
      "text/html": [
       "<div>\n",
       "<table border=\"1\" class=\"dataframe\">\n",
       "  <thead>\n",
       "    <tr style=\"text-align: right;\">\n",
       "      <th></th>\n",
       "      <th>Pressure (MPa)</th>\n",
       "      <th>Density_CO2 (kg/m3)</th>\n",
       "      <th>Sound Spd_CO2 (m/s)</th>\n",
       "      <th>Density_H2O (kg/m3)</th>\n",
       "      <th>Sound Spd_H2O (m/s)</th>\n",
       "      <th>Vp_CO2 (m/s)</th>\n",
       "      <th>Vs_CO2 (m/s)</th>\n",
       "      <th>Density_rock (kg/m3)</th>\n",
       "      <th>Z_CO2 (kg/m3 . m/s)</th>\n",
       "    </tr>\n",
       "  </thead>\n",
       "  <tbody>\n",
       "    <tr>\n",
       "      <th>0</th>\n",
       "      <td>2.0</td>\n",
       "      <td>39.773</td>\n",
       "      <td>253.06</td>\n",
       "      <td>997.90</td>\n",
       "      <td>1499.9</td>\n",
       "      <td>4636.5729</td>\n",
       "      <td>3246.9851</td>\n",
       "      <td>2545.160396</td>\n",
       "      <td>1.180082e+07</td>\n",
       "    </tr>\n",
       "    <tr>\n",
       "      <th>1</th>\n",
       "      <td>3.0</td>\n",
       "      <td>64.091</td>\n",
       "      <td>243.76</td>\n",
       "      <td>998.35</td>\n",
       "      <td>1501.6</td>\n",
       "      <td>4632.6235</td>\n",
       "      <td>3243.1127</td>\n",
       "      <td>2545.975048</td>\n",
       "      <td>1.179454e+07</td>\n",
       "    </tr>\n",
       "    <tr>\n",
       "      <th>2</th>\n",
       "      <td>4.0</td>\n",
       "      <td>93.349</td>\n",
       "      <td>233.28</td>\n",
       "      <td>998.80</td>\n",
       "      <td>1503.2</td>\n",
       "      <td>4620.8156</td>\n",
       "      <td>3239.2496</td>\n",
       "      <td>2546.955192</td>\n",
       "      <td>1.176901e+07</td>\n",
       "    </tr>\n",
       "    <tr>\n",
       "      <th>3</th>\n",
       "      <td>5.0</td>\n",
       "      <td>131.270</td>\n",
       "      <td>220.79</td>\n",
       "      <td>999.25</td>\n",
       "      <td>1504.9</td>\n",
       "      <td>4605.1651</td>\n",
       "      <td>3229.6318</td>\n",
       "      <td>2548.225545</td>\n",
       "      <td>1.173500e+07</td>\n",
       "    </tr>\n",
       "    <tr>\n",
       "      <th>4</th>\n",
       "      <td>6.0</td>\n",
       "      <td>190.610</td>\n",
       "      <td>203.43</td>\n",
       "      <td>999.69</td>\n",
       "      <td>1506.6</td>\n",
       "      <td>4601.2690</td>\n",
       "      <td>3227.7151</td>\n",
       "      <td>2550.213435</td>\n",
       "      <td>1.173422e+07</td>\n",
       "    </tr>\n",
       "    <tr>\n",
       "      <th>5</th>\n",
       "      <td>7.0</td>\n",
       "      <td>743.030</td>\n",
       "      <td>320.36</td>\n",
       "      <td>1000.10</td>\n",
       "      <td>1508.3</td>\n",
       "      <td>4660.4113</td>\n",
       "      <td>3243.1127</td>\n",
       "      <td>2568.719505</td>\n",
       "      <td>1.197129e+07</td>\n",
       "    </tr>\n",
       "    <tr>\n",
       "      <th>6</th>\n",
       "      <td>8.0</td>\n",
       "      <td>776.640</td>\n",
       "      <td>369.05</td>\n",
       "      <td>1000.60</td>\n",
       "      <td>1509.9</td>\n",
       "      <td>4696.6321</td>\n",
       "      <td>3250.8667</td>\n",
       "      <td>2569.845440</td>\n",
       "      <td>1.206962e+07</td>\n",
       "    </tr>\n",
       "    <tr>\n",
       "      <th>7</th>\n",
       "      <td>9.0</td>\n",
       "      <td>799.650</td>\n",
       "      <td>404.05</td>\n",
       "      <td>1001.00</td>\n",
       "      <td>1511.6</td>\n",
       "      <td>4708.8312</td>\n",
       "      <td>3252.8110</td>\n",
       "      <td>2570.616275</td>\n",
       "      <td>1.210460e+07</td>\n",
       "    </tr>\n",
       "    <tr>\n",
       "      <th>8</th>\n",
       "      <td>11.0</td>\n",
       "      <td>832.570</td>\n",
       "      <td>456.41</td>\n",
       "      <td>1001.90</td>\n",
       "      <td>1514.9</td>\n",
       "      <td>4749.9563</td>\n",
       "      <td>3264.5258</td>\n",
       "      <td>2571.719095</td>\n",
       "      <td>1.221555e+07</td>\n",
       "    </tr>\n",
       "    <tr>\n",
       "      <th>9</th>\n",
       "      <td>13.0</td>\n",
       "      <td>856.870</td>\n",
       "      <td>496.64</td>\n",
       "      <td>1002.80</td>\n",
       "      <td>1518.3</td>\n",
       "      <td>4758.2677</td>\n",
       "      <td>3270.4149</td>\n",
       "      <td>2572.533145</td>\n",
       "      <td>1.224080e+07</td>\n",
       "    </tr>\n",
       "    <tr>\n",
       "      <th>10</th>\n",
       "      <td>15.0</td>\n",
       "      <td>876.470</td>\n",
       "      <td>530.04</td>\n",
       "      <td>1003.70</td>\n",
       "      <td>1521.6</td>\n",
       "      <td>4774.9781</td>\n",
       "      <td>3276.3253</td>\n",
       "      <td>2573.189745</td>\n",
       "      <td>1.228692e+07</td>\n",
       "    </tr>\n",
       "    <tr>\n",
       "      <th>11</th>\n",
       "      <td>17.0</td>\n",
       "      <td>893.090</td>\n",
       "      <td>558.98</td>\n",
       "      <td>1004.50</td>\n",
       "      <td>1525.0</td>\n",
       "      <td>4800.2648</td>\n",
       "      <td>3278.3002</td>\n",
       "      <td>2573.746515</td>\n",
       "      <td>1.235466e+07</td>\n",
       "    </tr>\n",
       "    <tr>\n",
       "      <th>12</th>\n",
       "      <td>19.0</td>\n",
       "      <td>907.600</td>\n",
       "      <td>584.74</td>\n",
       "      <td>1005.40</td>\n",
       "      <td>1528.3</td>\n",
       "      <td>4808.7533</td>\n",
       "      <td>3278.3002</td>\n",
       "      <td>2574.232600</td>\n",
       "      <td>1.237885e+07</td>\n",
       "    </tr>\n",
       "    <tr>\n",
       "      <th>13</th>\n",
       "      <td>21.0</td>\n",
       "      <td>920.530</td>\n",
       "      <td>608.13</td>\n",
       "      <td>1006.30</td>\n",
       "      <td>1531.6</td>\n",
       "      <td>4825.8208</td>\n",
       "      <td>3278.3002</td>\n",
       "      <td>2574.665755</td>\n",
       "      <td>1.242488e+07</td>\n",
       "    </tr>\n",
       "    <tr>\n",
       "      <th>14</th>\n",
       "      <td>23.0</td>\n",
       "      <td>932.250</td>\n",
       "      <td>629.67</td>\n",
       "      <td>1007.10</td>\n",
       "      <td>1535.0</td>\n",
       "      <td>4830.1066</td>\n",
       "      <td>3278.3002</td>\n",
       "      <td>2575.058375</td>\n",
       "      <td>1.243781e+07</td>\n",
       "    </tr>\n",
       "    <tr>\n",
       "      <th>15</th>\n",
       "      <td>25.0</td>\n",
       "      <td>942.980</td>\n",
       "      <td>649.71</td>\n",
       "      <td>1008.00</td>\n",
       "      <td>1538.3</td>\n",
       "      <td>4843.0098</td>\n",
       "      <td>3280.2774</td>\n",
       "      <td>2575.417830</td>\n",
       "      <td>1.247277e+07</td>\n",
       "    </tr>\n",
       "  </tbody>\n",
       "</table>\n",
       "</div>"
      ],
      "text/plain": [
       "    Pressure (MPa)  Density_CO2 (kg/m3)  Sound Spd_CO2 (m/s)  \\\n",
       "0              2.0               39.773               253.06   \n",
       "1              3.0               64.091               243.76   \n",
       "2              4.0               93.349               233.28   \n",
       "3              5.0              131.270               220.79   \n",
       "4              6.0              190.610               203.43   \n",
       "5              7.0              743.030               320.36   \n",
       "6              8.0              776.640               369.05   \n",
       "7              9.0              799.650               404.05   \n",
       "8             11.0              832.570               456.41   \n",
       "9             13.0              856.870               496.64   \n",
       "10            15.0              876.470               530.04   \n",
       "11            17.0              893.090               558.98   \n",
       "12            19.0              907.600               584.74   \n",
       "13            21.0              920.530               608.13   \n",
       "14            23.0              932.250               629.67   \n",
       "15            25.0              942.980               649.71   \n",
       "\n",
       "    Density_H2O (kg/m3)  Sound Spd_H2O (m/s)  Vp_CO2 (m/s)  Vs_CO2 (m/s)  \\\n",
       "0                997.90               1499.9     4636.5729     3246.9851   \n",
       "1                998.35               1501.6     4632.6235     3243.1127   \n",
       "2                998.80               1503.2     4620.8156     3239.2496   \n",
       "3                999.25               1504.9     4605.1651     3229.6318   \n",
       "4                999.69               1506.6     4601.2690     3227.7151   \n",
       "5               1000.10               1508.3     4660.4113     3243.1127   \n",
       "6               1000.60               1509.9     4696.6321     3250.8667   \n",
       "7               1001.00               1511.6     4708.8312     3252.8110   \n",
       "8               1001.90               1514.9     4749.9563     3264.5258   \n",
       "9               1002.80               1518.3     4758.2677     3270.4149   \n",
       "10              1003.70               1521.6     4774.9781     3276.3253   \n",
       "11              1004.50               1525.0     4800.2648     3278.3002   \n",
       "12              1005.40               1528.3     4808.7533     3278.3002   \n",
       "13              1006.30               1531.6     4825.8208     3278.3002   \n",
       "14              1007.10               1535.0     4830.1066     3278.3002   \n",
       "15              1008.00               1538.3     4843.0098     3280.2774   \n",
       "\n",
       "    Density_rock (kg/m3)  Z_CO2 (kg/m3 . m/s)  \n",
       "0            2545.160396         1.180082e+07  \n",
       "1            2545.975048         1.179454e+07  \n",
       "2            2546.955192         1.176901e+07  \n",
       "3            2548.225545         1.173500e+07  \n",
       "4            2550.213435         1.173422e+07  \n",
       "5            2568.719505         1.197129e+07  \n",
       "6            2569.845440         1.206962e+07  \n",
       "7            2570.616275         1.210460e+07  \n",
       "8            2571.719095         1.221555e+07  \n",
       "9            2572.533145         1.224080e+07  \n",
       "10           2573.189745         1.228692e+07  \n",
       "11           2573.746515         1.235466e+07  \n",
       "12           2574.232600         1.237885e+07  \n",
       "13           2574.665755         1.242488e+07  \n",
       "14           2575.058375         1.243781e+07  \n",
       "15           2575.417830         1.247277e+07  "
      ]
     },
     "execution_count": 8,
     "metadata": {},
     "output_type": "execute_result"
    }
   ],
   "source": [
    "pp_25"
   ]
  },
  {
   "cell_type": "code",
   "execution_count": 9,
   "metadata": {
    "collapsed": false,
    "run_control": {
     "marked": false
    }
   },
   "outputs": [],
   "source": [
    "### Gassmann parameters for Vp_h2o calculation\n",
    "K_dry = 18.70 * 1e9# Gpa\n",
    "K_s = 62.76 *1e9 #Gpa\n",
    "K_h2o = (pp_25['Sound Spd_H2O (m/s)']**2 * pp_25['Density_H2O (kg/m3)'] ) \n",
    "G = 19.36 * 1e9# Gpa\n",
    "\n",
    "upper = (1 - (K_dry/K_s))**2\n",
    "lower = (porosity/K_h2o) + ((1-porosity)/K_s) - (K_dry/K_s**2)\n",
    "K = K_dry + (upper)/(lower)\n",
    "\n",
    "Vp = np.sqrt((K + 4/3*G) / pp_25['Density_rock (kg/m3)'])\n",
    "Vs = np.sqrt(G / pp_25['Density_rock (kg/m3)'])"
   ]
  },
  {
   "cell_type": "code",
   "execution_count": 10,
   "metadata": {
    "collapsed": false,
    "run_control": {
     "marked": true
    }
   },
   "outputs": [
    {
     "data": {
      "text/plain": [
       "0     5006.118501\n",
       "1     5006.516081\n",
       "2     5006.691317\n",
       "3     5006.639333\n",
       "4     5005.877916\n",
       "5     4988.985006\n",
       "6     4989.043903\n",
       "7     4989.460965\n",
       "8     4990.703753\n",
       "9     4992.280632\n",
       "10    4993.948153\n",
       "11    4995.722376\n",
       "12    4997.547140\n",
       "13    4999.419217\n",
       "14    5001.340239\n",
       "15    5003.275676\n",
       "dtype: float64"
      ]
     },
     "execution_count": 10,
     "metadata": {},
     "output_type": "execute_result"
    }
   ],
   "source": [
    "Vp"
   ]
  },
  {
   "cell_type": "code",
   "execution_count": 11,
   "metadata": {
    "collapsed": false,
    "run_control": {
     "marked": true
    }
   },
   "outputs": [
    {
     "data": {
      "text/plain": [
       "0     2758.005311\n",
       "1     2757.564027\n",
       "2     2757.033380\n",
       "3     2756.346070\n",
       "4     2755.271575\n",
       "5     2745.328602\n",
       "6     2744.727126\n",
       "7     2744.315573\n",
       "8     2743.727093\n",
       "9     2743.292947\n",
       "10    2742.942922\n",
       "11    2742.646221\n",
       "12    2742.387265\n",
       "13    2742.156570\n",
       "14    2741.947513\n",
       "15    2741.756157\n",
       "Name: Density_rock (kg/m3), dtype: float64"
      ]
     },
     "execution_count": 11,
     "metadata": {},
     "output_type": "execute_result"
    }
   ],
   "source": [
    "Vs"
   ]
  },
  {
   "cell_type": "code",
   "execution_count": 16,
   "metadata": {
    "collapsed": false
   },
   "outputs": [
    {
     "data": {
      "text/plain": [
       "(4950, 5050)"
      ]
     },
     "execution_count": 16,
     "metadata": {},
     "output_type": "execute_result"
    },
    {
     "data": {
      "image/png": "[encoded data removed]",
      "text/plain": [
       "<matplotlib.figure.Figure at 0x1163cd7b8>"
      ]
     },
     "metadata": {},
     "output_type": "display_data"
    }
   ],
   "source": [
    "plt.plot(pp_25['Pressure (MPa)'], Vp, marker='x')\n",
    "plt.ylim([4950, 5050])\n",
    "# plt.plot(pp_25['Pressure (MPa)'], Vs, marker='^')"
   ]
  },
  {
   "cell_type": "code",
   "execution_count": null,
   "metadata": {
    "collapsed": true
   },
   "outputs": [],
   "source": []
  }
 ],
 "metadata": {
  "kernelspec": {
   "display_name": "Python [Root]",
   "language": "python",
   "name": "Python [Root]"
  },
  "language_info": {
   "codemirror_mode": {
    "name": "ipython",
    "version": 3
   },
   "file_extension": ".py",
   "mimetype": "text/x-python",
   "name": "python",
   "nbconvert_exporter": "python",
   "pygments_lexer": "ipython3",
   "version": "3.5.2"
  }
 },
 "nbformat": 4,
 "nbformat_minor": 0
}
